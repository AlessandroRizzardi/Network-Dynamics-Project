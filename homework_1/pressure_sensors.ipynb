{
 "cells": [
  {
   "attachments": {},
   "cell_type": "markdown",
   "metadata": {},
   "source": [
    "# Pressure Sensors"
   ]
  },
  {
   "cell_type": "code",
   "execution_count": 1,
   "metadata": {},
   "outputs": [],
   "source": [
    "import numpy as np \n",
    "import matplotlib.pyplot as plt\n",
    "from graph import Graph,rounding,latex\n",
    "import scienceplots\n",
    "plt.style.use(['science','notebook','grid'])"
   ]
  },
  {
   "cell_type": "code",
   "execution_count": 2,
   "metadata": {},
   "outputs": [],
   "source": [
    "# Weight matrix\n",
    "W = np.array(\n",
    "    [[0, 1, 1, 0, 0, 0, 0, 0, 0, 1, 0, 0, 0, 0, 0],\n",
    "     [1, 1, 1, 0, 0, 0, 0, 0, 0, 0, 0, 0, 0, 0, 0],\n",
    "     [1, 1, 0, 0, 0, 0, 0, 0, 0, 0, 0, 0, 0, 0, 0],\n",
    "     [0, 0, 0, 1, 1, 0, 1, 0, 0, 0, 0, 0, 0, 0, 0],\n",
    "     [0, 0, 0, 1, 0, 1, 0, 1, 0, 0, 0, 0, 0, 0, 0],\n",
    "     [0, 0, 0, 0, 1, 1, 0, 0, 0, 0, 0, 0, 0, 0, 0],\n",
    "     [0, 0, 0, 1, 0, 0, 0, 0, 0, 0, 1, 0, 1, 0, 0],\n",
    "     [0, 0, 0, 0, 1, 0, 0, 0, 1, 0, 0, 1, 0, 0, 0],\n",
    "     [0, 0, 0, 0, 0, 0, 0, 1, 0, 0, 0, 0, 0, 0, 0],\n",
    "     [1, 0, 0, 0, 0, 0, 0, 0, 0, 0, 1, 0, 0, 0, 0],\n",
    "     [0, 0, 0, 0, 0, 0, 1, 0, 0, 1, 0, 0, 0, 0, 1],\n",
    "     [0, 0, 0, 0, 0, 0, 0, 1, 0, 0, 0, 0, 1, 1, 0],\n",
    "     [0, 0, 0, 0, 0, 0, 1, 0, 0, 0, 0, 1, 0, 0, 0],\n",
    "     [0, 0, 0, 0, 0, 0, 0, 0, 0, 0, 0, 1, 0, 1, 0],\n",
    "     [0, 0, 0, 0, 0, 0, 0, 0, 0, 0, 1, 0, 0, 0, 0]\n",
    "    ]) \n",
    "\n",
    "# Creating the Graph object\n",
    "G = Graph(W)"
   ]
  },
  {
   "attachments": {},
   "cell_type": "markdown",
   "metadata": {},
   "source": [
    "### Centralities"
   ]
  },
  {
   "attachments": {},
   "cell_type": "markdown",
   "metadata": {},
   "source": [
    "#### Invariant centrality"
   ]
  },
  {
   "attachments": {},
   "cell_type": "markdown",
   "metadata": {},
   "source": [
    "The innvariant centrality is given by $\\pi = P^{T} \\pi$"
   ]
  },
  {
   "cell_type": "code",
   "execution_count": 3,
   "metadata": {},
   "outputs": [
    {
     "name": "stdout",
     "output_type": "stream",
     "text": [
      "The invaraint centrality for each nodes is given by:\n"
     ]
    },
    {
     "data": {
      "text/latex": [
       "$\\displaystyle \\left[\\begin{array}{ccccccccccccccc}0.083 & 0.083 & 0.056 & 0.083 & 0.083 & 0.056 & 0.083 & 0.083 & 0.028 & 0.056 & 0.083 & 0.083 & 0.056 & 0.056 & 0.028\\end{array}\\right]$"
      ],
      "text/plain": [
       "Matrix([[0.083, 0.083, 0.056, 0.083, 0.083, 0.056, 0.083, 0.083, 0.028, 0.056, 0.083, 0.083, 0.056, 0.056, 0.028]])"
      ]
     },
     "metadata": {},
     "output_type": "display_data"
    }
   ],
   "source": [
    "# Invarint centrality\n",
    "invariant = G.invariant_centrality()\n",
    "print('The invaraint centrality for each nodes is given by:')\n",
    "display(latex(rounding(invariant,3)).T)"
   ]
  },
  {
   "attachments": {},
   "cell_type": "markdown",
   "metadata": {},
   "source": [
    "___"
   ]
  },
  {
   "attachments": {},
   "cell_type": "markdown",
   "metadata": {},
   "source": [
    "#### Closeness and betweness centrilty\n",
    "\n",
    "$$Closeness = \\frac{n}{\\sum_j dist(i,j)}$$\n",
    "\n",
    "\n",
    "$$Betweenness = \\frac{1}{n^2} \\sum_{i,j} g^{(k)}_{ij}$$"
   ]
  },
  {
   "cell_type": "code",
   "execution_count": 4,
   "metadata": {},
   "outputs": [
    {
     "name": "stdout",
     "output_type": "stream",
     "text": [
      "The closeness centrality of each node is given by:\n"
     ]
    },
    {
     "data": {
      "text/latex": [
       "$\\displaystyle \\left[\\begin{array}{ccccccccccccccc}0.278 & 0.227 & 0.227 & 0.375 & 0.349 & 0.268 & 0.429 & 0.312 & 0.246 & 0.333 & 0.395 & 0.349 & 0.375 & 0.268 & 0.294\\end{array}\\right]$"
      ],
      "text/plain": [
       "Matrix([[0.278, 0.227, 0.227, 0.375, 0.349, 0.268, 0.429, 0.312, 0.246, 0.333, 0.395, 0.349, 0.375, 0.268, 0.294]])"
      ]
     },
     "metadata": {},
     "output_type": "display_data"
    },
    {
     "name": "stdout",
     "output_type": "stream",
     "text": [
      "\n",
      " The betweenness centrality of each node is given by:\n"
     ]
    },
    {
     "data": {
      "text/latex": [
       "$\\displaystyle \\left[\\begin{array}{ccccccccccccccc}0.264 & 0 & 0 & 0.242 & 0.253 & 0 & 0.56 & 0.209 & 0 & 0.363 & 0.538 & 0.253 & 0.242 & 0 & 0\\end{array}\\right]$"
      ],
      "text/plain": [
       "Matrix([[0.264, 0, 0, 0.242, 0.253, 0, 0.56, 0.209, 0, 0.363, 0.538, 0.253, 0.242, 0, 0]])"
      ]
     },
     "metadata": {},
     "output_type": "display_data"
    }
   ],
   "source": [
    "# Closeness and betwenness centrality\n",
    "closeness = []\n",
    "for i in range(G.size):\n",
    "    closeness.append(G.closeness_centrality(i))\n",
    "\n",
    "betweeness = G.betweenness_centrality()\n",
    "\n",
    "print('The closeness centrality of each node is given by:')\n",
    "display(latex(rounding(closeness,3)).T)\n",
    "\n",
    "print('\\n The betweenness centrality of each node is given by:')\n",
    "display(latex(rounding(betweeness,3)).T)\n"
   ]
  },
  {
   "attachments": {},
   "cell_type": "markdown",
   "metadata": {},
   "source": [
    "___"
   ]
  },
  {
   "attachments": {},
   "cell_type": "markdown",
   "metadata": {},
   "source": [
    "#### PageRank centrality\n"
   ]
  },
  {
   "cell_type": "markdown",
   "metadata": {},
   "source": [
    "The numerical solution is given by:\n",
    "$$\\pi_B(k+1) = (1 -\\beta) \\, P^{T} \\, \\pi_B(k) + \\beta \\, \\mu$$"
   ]
  },
  {
   "cell_type": "code",
   "execution_count": 5,
   "metadata": {},
   "outputs": [
    {
     "name": "stdout",
     "output_type": "stream",
     "text": [
      "The PageRange centarlity for beta = 0.15 and mu_i = 1 is:\n"
     ]
    },
    {
     "data": {
      "text/latex": [
       "$\\displaystyle \\left[\\begin{array}{ccccccccccccccc}1.19 & 1.164 & 0.817 & 1.161 & 1.204 & 0.854 & 1.203 & 1.278 & 0.512 & 0.853 & 1.292 & 1.241 & 0.842 & 0.872 & 0.516\\end{array}\\right]$"
      ],
      "text/plain": [
       "Matrix([[1.19, 1.164, 0.817, 1.161, 1.204, 0.854, 1.203, 1.278, 0.512, 0.853, 1.292, 1.241, 0.842, 0.872, 0.516]])"
      ]
     },
     "metadata": {},
     "output_type": "display_data"
    },
    {
     "name": "stdout",
     "output_type": "stream",
     "text": [
      "\n",
      "The PageRange centarlity for beta = 0.6 and mu_i = 0 for every node exept mu_7=1 is:\n"
     ]
    },
    {
     "data": {
      "text/latex": [
       "$\\displaystyle \\left[\\begin{array}{ccccccccccccccc}0.003 & 0.001 & 0 & 0.101 & 0.015 & 0.002 & 0.644 & 0.005 & 0.001 & 0.013 & 0.093 & 0.019 & 0.088 & 0.003 & 0.012\\end{array}\\right]$"
      ],
      "text/plain": [
       "Matrix([[0.003, 0.001, 0, 0.101, 0.015, 0.002, 0.644, 0.005, 0.001, 0.013, 0.093, 0.019, 0.088, 0.003, 0.012]])"
      ]
     },
     "metadata": {},
     "output_type": "display_data"
    },
    {
     "name": "stdout",
     "output_type": "stream",
     "text": [
      "\n",
      "The PageRange centarlity for beta = 0.5 and mu_i = 0 for every node exept mu_11=1 is:\n"
     ]
    },
    {
     "data": {
      "text/latex": [
       "$\\displaystyle \\left[\\begin{array}{ccccccccccccccc}0.029 & 0.008 & 0.006 & 0.022 & 0.004 & 0.001 & 0.107 & 0.002 & 0 & 0.104 & 0.593 & 0.005 & 0.019 & 0.001 & 0.099\\end{array}\\right]$"
      ],
      "text/plain": [
       "Matrix([[0.029, 0.008, 0.006, 0.022, 0.004, 0.001, 0.107, 0.002, 0, 0.104, 0.593, 0.005, 0.019, 0.001, 0.099]])"
      ]
     },
     "metadata": {},
     "output_type": "display_data"
    }
   ],
   "source": [
    "# PageRank centrality\n",
    "step = 1000\n",
    "\n",
    "# β = 0.15  ; μ_i = 1\n",
    "mu_1 = np.ones(15)\n",
    "beta_1 = 0.15  \n",
    "pageRank1 = G.bonacich_centrality(mu_1,beta_1,step)\n",
    "\n",
    "print('The PageRange centarlity for beta =', beta_1, 'and mu_i = 1 is:')\n",
    "display(latex(rounding(pageRank1,3)).T)\n",
    "\n",
    "# β = 0.6  ; μ_i = 0, μ_7 = 1\n",
    "mu_2 = np.zeros(15)\n",
    "mu_2[6] = 1\n",
    "beta_2 = 0.6  \n",
    "pageRank2 = G.bonacich_centrality(mu_2,beta_2,step) \n",
    "print('\\nThe PageRange centarlity for beta =', beta_2, 'and mu_i = 0 for every node exept mu_7=1 is:') \n",
    "display(latex(rounding(pageRank2,3)).T)\n",
    "\n",
    "# β = 0.5  ; μ_i = 0, μ_11 = 1\n",
    "mu_3 = np.zeros(15)\n",
    "mu_3[10] = 1\n",
    "beta_3 = 0.5  \n",
    "pageRank3 = G.bonacich_centrality(mu_3,beta_3,step)\n",
    "print('\\nThe PageRange centarlity for beta =', beta_3, 'and mu_i = 0 for every node exept mu_11=1 is:') \n",
    "display(latex(rounding(pageRank3,3)).T)"
   ]
  },
  {
   "attachments": {},
   "cell_type": "markdown",
   "metadata": {},
   "source": [
    "___"
   ]
  },
  {
   "attachments": {},
   "cell_type": "markdown",
   "metadata": {},
   "source": [
    "### DeGroot dynamics"
   ]
  },
  {
   "attachments": {},
   "cell_type": "markdown",
   "metadata": {},
   "source": [
    "The initial state is given by $x_i(0)=\\theta + \\xi_i$, where $\\theta = 101,325 \\, Pa$ and the gaussian noise has zero mean and $\\sigma = 0.5 \\, Pa$ as standard deviation"
   ]
  },
  {
   "cell_type": "code",
   "execution_count": 6,
   "metadata": {},
   "outputs": [
    {
     "data": {
      "text/latex": [
       "$\\displaystyle \\left[\\begin{matrix}101325.508\\\\101325.491\\\\101325.118\\\\101324.724\\\\101325.065\\\\101324.498\\\\101325.098\\\\101324.577\\\\101324.953\\\\101325.421\\\\101325.071\\\\101324.757\\\\101326.126\\\\101325.227\\\\101324.473\\end{matrix}\\right]$"
      ],
      "text/plain": [
       "Matrix([\n",
       "[101325.508],\n",
       "[101325.491],\n",
       "[101325.118],\n",
       "[101324.724],\n",
       "[101325.065],\n",
       "[101324.498],\n",
       "[101325.098],\n",
       "[101324.577],\n",
       "[101324.953],\n",
       "[101325.421],\n",
       "[101325.071],\n",
       "[101324.757],\n",
       "[101326.126],\n",
       "[101325.227],\n",
       "[101324.473]])"
      ]
     },
     "metadata": {},
     "output_type": "display_data"
    }
   ],
   "source": [
    "theta = 101325\n",
    "xi = np.random.normal(0,0.5,15)\n",
    "x_0 = np.ones(15)*theta + xi\n",
    "display(latex(rounding(x_0,3)))"
   ]
  },
  {
   "attachments": {},
   "cell_type": "markdown",
   "metadata": {},
   "source": [
    "#### Analitic result"
   ]
  },
  {
   "cell_type": "code",
   "execution_count": 7,
   "metadata": {},
   "outputs": [
    {
     "name": "stdout",
     "output_type": "stream",
     "text": [
      "The consensus value computed analytically is: 101325.086\n"
     ]
    }
   ],
   "source": [
    "alpha = invariant.T@x_0\n",
    "print('The consensus value computed analytically is:',round(alpha,3))"
   ]
  },
  {
   "attachments": {},
   "cell_type": "markdown",
   "metadata": {},
   "source": [
    "#### Numerical result"
   ]
  },
  {
   "cell_type": "code",
   "execution_count": 8,
   "metadata": {},
   "outputs": [
    {
     "name": "stdout",
     "output_type": "stream",
     "text": [
      "Consensus value alpha computed numerically is: 101325.086\n"
     ]
    }
   ],
   "source": [
    "step = 1000\n",
    "x = x_0.copy()\n",
    "\n",
    "for i in range(step):\n",
    "    x = G.normalized_matrix()@x\n",
    "\n",
    "print('Consensus value alpha computed numerically is:', round(x[0],3))"
   ]
  },
  {
   "attachments": {},
   "cell_type": "markdown",
   "metadata": {},
   "source": [
    "___"
   ]
  },
  {
   "attachments": {},
   "cell_type": "markdown",
   "metadata": {},
   "source": [
    "#### Self-loop"
   ]
  },
  {
   "attachments": {},
   "cell_type": "markdown",
   "metadata": {},
   "source": [
    "Adding a self loop to all the nodes:"
   ]
  },
  {
   "cell_type": "code",
   "execution_count": 9,
   "metadata": {},
   "outputs": [
    {
     "name": "stdout",
     "output_type": "stream",
     "text": [
      "Consensus value alpha is considering all node with a self loop is: 101325.09\n"
     ]
    }
   ],
   "source": [
    "W_loops = W.copy()\n",
    "\n",
    "for i in range(W_loops.shape[0]):\n",
    "    W_loops[i,i]=1\n",
    "\n",
    "G_loops = Graph(W_loops)\n",
    "x = x_0\n",
    "for i in range(step):\n",
    "    x = G_loops.normalized_matrix()@x\n",
    "\n",
    "print('Consensus value alpha is considering all node with a self loop is:', round(x[0],3))"
   ]
  },
  {
   "attachments": {},
   "cell_type": "markdown",
   "metadata": {},
   "source": [
    "___"
   ]
  },
  {
   "attachments": {},
   "cell_type": "markdown",
   "metadata": {},
   "source": [
    "#### Exact average"
   ]
  },
  {
   "attachments": {},
   "cell_type": "markdown",
   "metadata": {},
   "source": [
    "We want now to compute the exact average state, using consensus algorithm"
   ]
  },
  {
   "cell_type": "code",
   "execution_count": 10,
   "metadata": {},
   "outputs": [
    {
     "name": "stdout",
     "output_type": "stream",
     "text": [
      "Exact averange is: 101325.074\n"
     ]
    }
   ],
   "source": [
    "# normalize initial condition\n",
    "x_0 = x_0/G.in_degree()\n",
    "\n",
    "x_prime = x_0\n",
    "for i in range(step):\n",
    "    x_prime = G.normalized_matrix()@x_prime\n",
    "\n",
    "x_0 = 1/G.in_degree()\n",
    "\n",
    "x_second = x_0\n",
    "for i in range(step):\n",
    "    x_second = G.normalized_matrix()@x_second\n",
    "x_second\n",
    "\n",
    "average = x_prime[-1]/x_second[-1]\n",
    "average = round(average,3)\n",
    "print('Exact averange is:',average)"
   ]
  },
  {
   "attachments": {},
   "cell_type": "markdown",
   "metadata": {},
   "source": [
    "___"
   ]
  },
  {
   "attachments": {},
   "cell_type": "markdown",
   "metadata": {},
   "source": [
    "#### Stubborn nodes"
   ]
  },
  {
   "attachments": {},
   "cell_type": "markdown",
   "metadata": {},
   "source": [
    "If we consider the set of stubborn nodes $ S = \\{3,12\\}$, with input values $u_3 = 12$, $\\,u_{12} = 6$, to simulate the dynamics we fistly need to find the matrices $Q$ and $B$ such that:\n",
    "$$ x(t+1) = Qx(t) + Bu$$\n",
    "where \n",
    "$\n",
    "P = \n",
    "\\begin{pmatrix}\n",
    "    Q & B \\\\\n",
    "    0 & I \\\\\n",
    "\\end{pmatrix}\n",
    "$"
   ]
  },
  {
   "cell_type": "code",
   "execution_count": 11,
   "metadata": {},
   "outputs": [],
   "source": [
    "P = G.normalized_matrix()\n",
    "\n",
    "Q = P[[0,1,3,4,5,6,7,8,9,10,12,13,14],:]\n",
    "Q = Q[:,[0,1,3,4,5,6,7,8,9,10,12,13,14]]\n",
    "B = P[:,[2,11]]\n",
    "B = B[[0,1,3,4,5,6,7,8,9,10,12,13,14],:]"
   ]
  },
  {
   "cell_type": "code",
   "execution_count": 12,
   "metadata": {},
   "outputs": [
    {
     "data": {
      "text/latex": [
       "$\\displaystyle \\left[\\begin{array}{ccccccccccccc}11.2 & 11.6 & 7.2 & 6.8 & 6.8 & 7.6 & 6.4 & 6.4 & 10.0 & 8.8 & 6.8 & 6.0 & 8.8\\end{array}\\right]$"
      ],
      "text/plain": [
       "Matrix([[11.2, 11.6, 7.2, 6.8, 6.8, 7.6, 6.4, 6.4, 10.0, 8.8, 6.8, 6.0, 8.8]])"
      ]
     },
     "metadata": {},
     "output_type": "display_data"
    }
   ],
   "source": [
    "step = 1000\n",
    "x_0 = np.zeros(13)\n",
    "u = np.array([12,6])\n",
    "x = x_0\n",
    "\n",
    "x_plot = x_0.copy()\n",
    "\n",
    "for i in range(step):\n",
    "    x = Q@x + B@u\n",
    "    x_plot = np.append(x_plot,x,axis=0)\n",
    "x_plot = np.reshape(x_plot,(step+1,13))\n",
    "display(latex(rounding(x,2)).T)"
   ]
  },
  {
   "cell_type": "code",
   "execution_count": 13,
   "metadata": {},
   "outputs": [
    {
     "data": {
      "image/png": "[encoded data removed]",
      "text/plain": [
       "<Figure size 800x600 with 1 Axes>"
      ]
     },
     "metadata": {},
     "output_type": "display_data"
    }
   ],
   "source": [
    "time = np.arange(0,step+1)\n",
    "plt.figure()\n",
    "for i in range(x_plot.shape[1]-1):\n",
    "    plt.plot(time,x_plot[:,i])\n",
    "plt.xlim(0,100)\n",
    "plt.title('De Groot dynamics with 2 stubborn nodes')\n",
    "plt.xlabel('steps')\n",
    "plt.ylabel('Value of the node')\n",
    "plt.savefig(\"Stubborn node simulation.png\")\n",
    "plt.show()"
   ]
  },
  {
   "attachments": {},
   "cell_type": "markdown",
   "metadata": {},
   "source": [
    "Let now consider the $11^{th}$ node as stubburn with constant value $ u_{11} = 15$"
   ]
  },
  {
   "cell_type": "code",
   "execution_count": 14,
   "metadata": {},
   "outputs": [],
   "source": [
    "Q = P[[0,1,2,3,4,5,6,7,8,9,11,12,13,14],:]\n",
    "Q = Q[:,[0,1,2,3,4,5,6,7,8,9,11,12,13,14]]\n",
    "B = P[:,[10]]\n",
    "B = B[[0,1,2,3,4,5,6,7,8,9,11,12,13,14],:]"
   ]
  },
  {
   "attachments": {},
   "cell_type": "markdown",
   "metadata": {},
   "source": [
    "Analitically we obtain the equilibrium just inverting the equation of the dynamics\n",
    "$$ x_{eq} = (I - Q)^{-1}\\,B\\,u$$"
   ]
  },
  {
   "cell_type": "code",
   "execution_count": 15,
   "metadata": {},
   "outputs": [
    {
     "data": {
      "text/latex": [
       "$\\displaystyle \\left[\\begin{array}{cccccccccccccc}15.0 & 15.0 & 15.0 & 15.0 & 15.0 & 15.0 & 15.0 & 15.0 & 15.0 & 15.0 & 15.0 & 15.0 & 15.0 & 15.0\\end{array}\\right]$"
      ],
      "text/plain": [
       "Matrix([[15.0, 15.0, 15.0, 15.0, 15.0, 15.0, 15.0, 15.0, 15.0, 15.0, 15.0, 15.0, 15.0, 15.0]])"
      ]
     },
     "metadata": {},
     "output_type": "display_data"
    }
   ],
   "source": [
    "u = np.array([15])\n",
    "x_eq = np.linalg.inv(np.eye(14) - Q) @ B @ u\n",
    "display(latex((rounding(x_eq,2))).T)"
   ]
  },
  {
   "attachments": {},
   "cell_type": "markdown",
   "metadata": {},
   "source": [
    "and we can see as after a sufficient iteration's step we can obtain the same result numerically :"
   ]
  },
  {
   "cell_type": "code",
   "execution_count": 16,
   "metadata": {},
   "outputs": [
    {
     "data": {
      "text/latex": [
       "$\\displaystyle \\left[\\begin{array}{cccccccccccccc}15.0 & 15.0 & 15.0 & 15.0 & 15.0 & 15.0 & 15.0 & 15.0 & 15.0 & 15.0 & 15.0 & 15.0 & 15.0 & 15.0\\end{array}\\right]$"
      ],
      "text/plain": [
       "Matrix([[15.0, 15.0, 15.0, 15.0, 15.0, 15.0, 15.0, 15.0, 15.0, 15.0, 15.0, 15.0, 15.0, 15.0]])"
      ]
     },
     "metadata": {},
     "output_type": "display_data"
    }
   ],
   "source": [
    "x_0 = np.zeros(14)\n",
    "x = x_0\n",
    "x_plot = x_0.copy()\n",
    "\n",
    "for i in range(step):\n",
    "    x = Q@x + B@u\n",
    "    x_plot = np.append(x_plot,x,axis=0)\n",
    "x_plot = np.reshape(x_plot,(step+1,14))\n",
    "display(latex(rounding(x,2)).T)"
   ]
  }
 ],
 "metadata": {
  "kernelspec": {
   "display_name": "Python 3",
   "language": "python",
   "name": "python3"
  },
  "language_info": {
   "codemirror_mode": {
    "name": "ipython",
    "version": 3
   },
   "file_extension": ".py",
   "mimetype": "text/x-python",
   "name": "python",
   "nbconvert_exporter": "python",
   "pygments_lexer": "ipython3",
   "version": "3.10.6"
  },
  "orig_nbformat": 4
 },
 "nbformat": 4,
 "nbformat_minor": 2
}
