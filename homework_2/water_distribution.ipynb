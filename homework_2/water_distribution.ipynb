{
 "cells": [
  {
   "attachments": {},
   "cell_type": "markdown",
   "metadata": {},
   "source": [
    "# Networ-decentralized control strategy"
   ]
  },
  {
   "cell_type": "code",
   "execution_count": 36,
   "metadata": {},
   "outputs": [],
   "source": [
    "import numpy as np \n",
    "import cvxpy as cvx\n",
    "from graph import latex"
   ]
  },
  {
   "attachments": {},
   "cell_type": "markdown",
   "metadata": {},
   "source": [
    "### Matrices $B$ and $E$"
   ]
  },
  {
   "cell_type": "code",
   "execution_count": 44,
   "metadata": {},
   "outputs": [],
   "source": [
    "B_i = np.array([[0],[1]])\n",
    "B_0 = np.zeros((2,1))\n",
    "\n",
    "B = np.block([[-B_i, B_0, B_0, B_i, -B_i, B_0, B_0, B_0, B_0, B_0, B_0 ],\n",
    "              [ B_i, B_i, B_i, B_0, B_0, B_i, -B_i, B_0, B_0, B_0, B_0 ],\n",
    "              [ B_0, B_0, -B_i, B_0, B_0, B_0, B_0, B_i, B_0, B_0, B_0 ],\n",
    "              [ B_0, B_0, B_0, -B_i, B_0, B_0, B_0, B_0, B_i, B_0, B_i ],\n",
    "              [ B_0, B_0, B_0, B_0, B_i, -B_i, B_0, B_0, -B_i, B_i, B_0],\n",
    "              [ B_0, B_0, B_0, B_0, B_0, B_0, B_i, -B_i, B_0, -B_i, B_0]\n",
    "            ])\n",
    "\n",
    "A_i = np.array([[0,1],[0,0]])\n",
    "A_0 = np.zeros((2,2))\n",
    "\n",
    "A = np.block([[A_i,A_0,A_0,A_0,A_0,A_0],\n",
    "              [A_0,A_i,A_0,A_0,A_0,A_0],\n",
    "              [A_0,A_0,A_i,A_0,A_0,A_0],\n",
    "              [A_0,A_0,A_0,A_i,A_0,A_0],\n",
    "              [A_0,A_0,A_0,A_0,A_i,A_0],\n",
    "              [A_0,A_0,A_0,A_0,A_0,A_i]])\n",
    "\n",
    "E_i = np.array([0,1])\n",
    "E_0 = np.zeros(2)\n",
    "\n",
    "E = - np.block([E_i,E_0,E_i,E_0,E_i,E_i])"
   ]
  },
  {
   "cell_type": "code",
   "execution_count": 38,
   "metadata": {},
   "outputs": [],
   "source": [
    "A = np.matrix(A)\n",
    "B = np.matrix(B)"
   ]
  },
  {
   "cell_type": "code",
   "execution_count": 39,
   "metadata": {},
   "outputs": [
    {
     "data": {
      "text/latex": [
       "$\\displaystyle \\left[\\begin{array}{cccccccccccc}0 & 1.0 & 0 & 0 & 0 & 0 & 0 & 0 & 0 & 0 & 0 & 0\\\\0 & 0 & 0 & 0 & 0 & 0 & 0 & 0 & 0 & 0 & 0 & 0\\\\0 & 0 & 0 & 1.0 & 0 & 0 & 0 & 0 & 0 & 0 & 0 & 0\\\\0 & 0 & 0 & 0 & 0 & 0 & 0 & 0 & 0 & 0 & 0 & 0\\\\0 & 0 & 0 & 0 & 0 & 1.0 & 0 & 0 & 0 & 0 & 0 & 0\\\\0 & 0 & 0 & 0 & 0 & 0 & 0 & 0 & 0 & 0 & 0 & 0\\\\0 & 0 & 0 & 0 & 0 & 0 & 0 & 1.0 & 0 & 0 & 0 & 0\\\\0 & 0 & 0 & 0 & 0 & 0 & 0 & 0 & 0 & 0 & 0 & 0\\\\0 & 0 & 0 & 0 & 0 & 0 & 0 & 0 & 0 & 1.0 & 0 & 0\\\\0 & 0 & 0 & 0 & 0 & 0 & 0 & 0 & 0 & 0 & 0 & 0\\\\0 & 0 & 0 & 0 & 0 & 0 & 0 & 0 & 0 & 0 & 0 & 1.0\\\\0 & 0 & 0 & 0 & 0 & 0 & 0 & 0 & 0 & 0 & 0 & 0\\end{array}\\right]$"
      ],
      "text/plain": [
       "Matrix([\n",
       "[0, 1.0, 0,   0, 0,   0, 0,   0, 0,   0, 0,   0],\n",
       "[0,   0, 0,   0, 0,   0, 0,   0, 0,   0, 0,   0],\n",
       "[0,   0, 0, 1.0, 0,   0, 0,   0, 0,   0, 0,   0],\n",
       "[0,   0, 0,   0, 0,   0, 0,   0, 0,   0, 0,   0],\n",
       "[0,   0, 0,   0, 0, 1.0, 0,   0, 0,   0, 0,   0],\n",
       "[0,   0, 0,   0, 0,   0, 0,   0, 0,   0, 0,   0],\n",
       "[0,   0, 0,   0, 0,   0, 0, 1.0, 0,   0, 0,   0],\n",
       "[0,   0, 0,   0, 0,   0, 0,   0, 0,   0, 0,   0],\n",
       "[0,   0, 0,   0, 0,   0, 0,   0, 0, 1.0, 0,   0],\n",
       "[0,   0, 0,   0, 0,   0, 0,   0, 0,   0, 0,   0],\n",
       "[0,   0, 0,   0, 0,   0, 0,   0, 0,   0, 0, 1.0],\n",
       "[0,   0, 0,   0, 0,   0, 0,   0, 0,   0, 0,   0]])"
      ]
     },
     "metadata": {},
     "output_type": "display_data"
    },
    {
     "data": {
      "text/latex": [
       "$\\displaystyle \\left[\\begin{array}{ccccccccccc}0 & 0 & 0 & 0 & 0 & 0 & 0 & 0 & 0 & 0 & 0\\\\-1.0 & 0 & 0 & 1.0 & -1.0 & 0 & 0 & 0 & 0 & 0 & 0\\\\0 & 0 & 0 & 0 & 0 & 0 & 0 & 0 & 0 & 0 & 0\\\\1.0 & 1.0 & 1.0 & 0 & 0 & 1.0 & -1.0 & 0 & 0 & 0 & 0\\\\0 & 0 & 0 & 0 & 0 & 0 & 0 & 0 & 0 & 0 & 0\\\\0 & 0 & -1.0 & 0 & 0 & 0 & 0 & 1.0 & 0 & 0 & 0\\\\0 & 0 & 0 & 0 & 0 & 0 & 0 & 0 & 0 & 0 & 0\\\\0 & 0 & 0 & -1.0 & 0 & 0 & 0 & 0 & 1.0 & 0 & 1.0\\\\0 & 0 & 0 & 0 & 0 & 0 & 0 & 0 & 0 & 0 & 0\\\\0 & 0 & 0 & 0 & 1.0 & -1.0 & 0 & 0 & -1.0 & 1.0 & 0\\\\0 & 0 & 0 & 0 & 0 & 0 & 0 & 0 & 0 & 0 & 0\\\\0 & 0 & 0 & 0 & 0 & 0 & 1.0 & -1.0 & 0 & -1.0 & 0\\end{array}\\right]$"
      ],
      "text/plain": [
       "Matrix([\n",
       "[   0,   0,    0,    0,    0,    0,    0,    0,    0,    0,   0],\n",
       "[-1.0,   0,    0,  1.0, -1.0,    0,    0,    0,    0,    0,   0],\n",
       "[   0,   0,    0,    0,    0,    0,    0,    0,    0,    0,   0],\n",
       "[ 1.0, 1.0,  1.0,    0,    0,  1.0, -1.0,    0,    0,    0,   0],\n",
       "[   0,   0,    0,    0,    0,    0,    0,    0,    0,    0,   0],\n",
       "[   0,   0, -1.0,    0,    0,    0,    0,  1.0,    0,    0,   0],\n",
       "[   0,   0,    0,    0,    0,    0,    0,    0,    0,    0,   0],\n",
       "[   0,   0,    0, -1.0,    0,    0,    0,    0,  1.0,    0, 1.0],\n",
       "[   0,   0,    0,    0,    0,    0,    0,    0,    0,    0,   0],\n",
       "[   0,   0,    0,    0,  1.0, -1.0,    0,    0, -1.0,  1.0,   0],\n",
       "[   0,   0,    0,    0,    0,    0,    0,    0,    0,    0,   0],\n",
       "[   0,   0,    0,    0,    0,    0,  1.0, -1.0,    0, -1.0,   0]])"
      ]
     },
     "metadata": {},
     "output_type": "display_data"
    },
    {
     "data": {
      "text/latex": [
       "$\\displaystyle \\left[\\begin{matrix}0\\\\-1.0\\\\0\\\\0\\\\0\\\\-1.0\\\\0\\\\0\\\\0\\\\-1.0\\\\0\\\\-1.0\\end{matrix}\\right]$"
      ],
      "text/plain": [
       "Matrix([\n",
       "[   0],\n",
       "[-1.0],\n",
       "[   0],\n",
       "[   0],\n",
       "[   0],\n",
       "[-1.0],\n",
       "[   0],\n",
       "[   0],\n",
       "[   0],\n",
       "[-1.0],\n",
       "[   0],\n",
       "[-1.0]])"
      ]
     },
     "metadata": {},
     "output_type": "display_data"
    }
   ],
   "source": [
    "display(latex(A),latex(B),latex(E))"
   ]
  },
  {
   "attachments": {},
   "cell_type": "markdown",
   "metadata": {},
   "source": [
    "### Network-decntralized feedBack control"
   ]
  },
  {
   "attachments": {},
   "cell_type": "markdown",
   "metadata": {},
   "source": [
    "#### Analitical solution"
   ]
  },
  {
   "attachments": {},
   "cell_type": "markdown",
   "metadata": {},
   "source": [
    "According to the paper \"Structure-LMI conditions for stabilizing network-decentralised control\" is possible to find  matrices $S$,$R$, with $S$ positive define, that satisfies the condition:\n",
    "\n",
    "$$ A\\, S + S \\, A - B \\, R - R^T \\, B^T < 0$$\n",
    "\n",
    "then exist a stabilizing decentralized control\n",
    "$$ u = - K \\, x$$\n",
    "with $K = R \\, S^{-1}$"
   ]
  },
  {
   "cell_type": "markdown",
   "metadata": {},
   "source": [
    "Original LMI was:\n",
    "\n",
    "$$S \\, A^T + A \\, S - 2 \\, \\gamma \\, B \\, B^T <0$$\n",
    "\n",
    ", but we change approach inorder to be able to work with cvxpy:"
   ]
  },
  {
   "attachments": {},
   "cell_type": "markdown",
   "metadata": {},
   "source": [
    "#### Numerical soution"
   ]
  },
  {
   "attachments": {},
   "cell_type": "markdown",
   "metadata": {},
   "source": [
    "### Evolution of the states"
   ]
  },
  {
   "cell_type": "code",
   "execution_count": 45,
   "metadata": {},
   "outputs": [
    {
     "data": {
      "text/latex": [
       "$\\displaystyle \\left[\\begin{array}{cccccccccccc}0.15 & 1.0 & 0 & 0 & 0 & 0 & 0 & 0 & 0 & 0 & 0 & 0\\\\0 & 0.15 & 0 & 0 & 0 & 0 & 0 & 0 & 0 & 0 & 0 & 0\\\\0 & 0 & 0.15 & 1.0 & 0 & 0 & 0 & 0 & 0 & 0 & 0 & 0\\\\0 & 0 & 0 & 0.15 & 0 & 0 & 0 & 0 & 0 & 0 & 0 & 0\\\\0 & 0 & 0 & 0 & 0.15 & 1.0 & 0 & 0 & 0 & 0 & 0 & 0\\\\0 & 0 & 0 & 0 & 0 & 0.15 & 0 & 0 & 0 & 0 & 0 & 0\\\\0 & 0 & 0 & 0 & 0 & 0 & 0.15 & 1.0 & 0 & 0 & 0 & 0\\\\0 & 0 & 0 & 0 & 0 & 0 & 0 & 0.15 & 0 & 0 & 0 & 0\\\\0 & 0 & 0 & 0 & 0 & 0 & 0 & 0 & 0.15 & 1.0 & 0 & 0\\\\0 & 0 & 0 & 0 & 0 & 0 & 0 & 0 & 0 & 0.15 & 0 & 0\\\\0 & 0 & 0 & 0 & 0 & 0 & 0 & 0 & 0 & 0 & 0.15 & 1.0\\\\0 & 0 & 0 & 0 & 0 & 0 & 0 & 0 & 0 & 0 & 0 & 0.15\\end{array}\\right]$"
      ],
      "text/plain": [
       "Matrix([\n",
       "[0.15,  1.0,    0,    0,    0,    0,    0,    0,    0,    0,    0,    0],\n",
       "[   0, 0.15,    0,    0,    0,    0,    0,    0,    0,    0,    0,    0],\n",
       "[   0,    0, 0.15,  1.0,    0,    0,    0,    0,    0,    0,    0,    0],\n",
       "[   0,    0,    0, 0.15,    0,    0,    0,    0,    0,    0,    0,    0],\n",
       "[   0,    0,    0,    0, 0.15,  1.0,    0,    0,    0,    0,    0,    0],\n",
       "[   0,    0,    0,    0,    0, 0.15,    0,    0,    0,    0,    0,    0],\n",
       "[   0,    0,    0,    0,    0,    0, 0.15,  1.0,    0,    0,    0,    0],\n",
       "[   0,    0,    0,    0,    0,    0,    0, 0.15,    0,    0,    0,    0],\n",
       "[   0,    0,    0,    0,    0,    0,    0,    0, 0.15,  1.0,    0,    0],\n",
       "[   0,    0,    0,    0,    0,    0,    0,    0,    0, 0.15,    0,    0],\n",
       "[   0,    0,    0,    0,    0,    0,    0,    0,    0,    0, 0.15,  1.0],\n",
       "[   0,    0,    0,    0,    0,    0,    0,    0,    0,    0,    0, 0.15]])"
      ]
     },
     "execution_count": 45,
     "metadata": {},
     "output_type": "execute_result"
    }
   ],
   "source": [
    "A = A + 0.15*np.eye(12)\n",
    "latex(A)"
   ]
  },
  {
   "cell_type": "code",
   "execution_count": 46,
   "metadata": {},
   "outputs": [
    {
     "data": {
      "text/plain": [
       "0.0"
      ]
     },
     "execution_count": 46,
     "metadata": {},
     "output_type": "execute_result"
    }
   ],
   "source": [
    "a = cvx.Parameter((12,12))\n",
    "b = cvx.Parameter((12,11))\n",
    "S = cvx.Variable((12,12))\n",
    "R = cvx.Variable((11,12))\n",
    "I = np.identity(12)\n",
    "\n",
    "\n",
    "objective = cvx.Minimize(0)\n",
    "prob = cvx.Problem(objective, [S - 0.1*I >> 0, a @ S + S @ a.T + b @ R + R.T @ b.T + 0.5*S << 0])\n",
    "\n",
    "a.value = A \n",
    "b.value = B\n",
    "prob.solve()\n"
   ]
  },
  {
   "cell_type": "code",
   "execution_count": 48,
   "metadata": {},
   "outputs": [],
   "source": [
    "R_ = R.value\n",
    "S_ = S.value"
   ]
  },
  {
   "cell_type": "code",
   "execution_count": 49,
   "metadata": {},
   "outputs": [
    {
     "data": {
      "text/plain": [
       "(11, 12)"
      ]
     },
     "execution_count": 49,
     "metadata": {},
     "output_type": "execute_result"
    }
   ],
   "source": [
    "K = R_@np.linalg.inv(S_)\n",
    "K.shape"
   ]
  },
  {
   "cell_type": "code",
   "execution_count": 50,
   "metadata": {},
   "outputs": [
    {
     "data": {
      "text/plain": [
       "array([-0.31928433+1.15304376j, -0.31928433-1.15304376j,\n",
       "       -0.31971085+1.14188856j, -0.31971085-1.14188856j,\n",
       "       -0.32155337+1.09509354j, -0.32155337-1.09509354j,\n",
       "       -0.32112431+1.10579661j, -0.32112431-1.10579661j,\n",
       "       -0.32027384+1.12736761j, -0.32027384-1.12736761j,\n",
       "       -0.32056084+1.12004029j, -0.32056084-1.12004029j])"
      ]
     },
     "execution_count": 50,
     "metadata": {},
     "output_type": "execute_result"
    }
   ],
   "source": [
    "A_cl = (A + B@K)\n",
    "np.linalg.eig(A_cl)[0]"
   ]
  },
  {
   "attachments": {},
   "cell_type": "markdown",
   "metadata": {},
   "source": [
    "#### Analitical  solution"
   ]
  },
  {
   "cell_type": "code",
   "execution_count": 51,
   "metadata": {},
   "outputs": [],
   "source": [
    "step = 100\n",
    "\n",
    "x0 = np.zeros(12)\n",
    "x  = x0.copy()\n",
    "x.shape\n",
    "\n",
    "A = np.array(A)\n",
    "B = np.array(B)\n",
    "K = np.array(K)\n",
    "\n",
    "u = -K@x\n",
    "\n",
    "dt = 0.001\n",
    "\n",
    "x_plot = x0.copy()\n",
    "\n",
    "for i in range(step):\n",
    "    x = x + A@x*dt + B@u*dt + E*dt\n",
    "    u = - K@x\n",
    "    x_plot = np.append(x_plot, x, axis=0)\n"
   ]
  },
  {
   "cell_type": "code",
   "execution_count": 52,
   "metadata": {},
   "outputs": [
    {
     "data": {
      "image/png": "[encoded data removed]",
      "text/plain": [
       "<Figure size 1200x400 with 1 Axes>"
      ]
     },
     "metadata": {},
     "output_type": "display_data"
    }
   ],
   "source": [
    "\n",
    "x_plot = np.reshape(x_plot, (step +1, len(x)))\n",
    "import matplotlib.pyplot as plt\n",
    "time = np.arange(0,step+1)\n",
    "plt.figure(figsize=(12,4))\n",
    "for i in range(x_plot.shape[1]-1):\n",
    "    if i % 2 == 0:\n",
    "        plt.plot(time,x_plot[:,i], '-', color='blue')\n",
    "    if i % 2 != 0:\n",
    "        plt.plot(time,x_plot[:,i], '-', color='red')\n",
    "plt.xlabel(\"Time\")\n",
    "plt.ylabel(\"States\")\n",
    "plt.show()"
   ]
  }
 ],
 "metadata": {
  "kernelspec": {
   "display_name": "Python 3",
   "language": "python",
   "name": "python3"
  },
  "language_info": {
   "codemirror_mode": {
    "name": "ipython",
    "version": 3
   },
   "file_extension": ".py",
   "mimetype": "text/x-python",
   "name": "python",
   "nbconvert_exporter": "python",
   "pygments_lexer": "ipython3",
   "version": "3.10.6"
  },
  "orig_nbformat": 4
 },
 "nbformat": 4,
 "nbformat_minor": 2
}
