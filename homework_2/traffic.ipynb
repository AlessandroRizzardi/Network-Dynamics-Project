{
 "cells": [
  {
   "attachments": {},
   "cell_type": "markdown",
   "metadata": {},
   "source": [
    "# Traffic in a NY's district"
   ]
  },
  {
   "cell_type": "code",
   "execution_count": 1,
   "metadata": {},
   "outputs": [],
   "source": [
    "import numpy as np \n",
    "import networkx as nx \n",
    "from graph import Graph,rounding, latex"
   ]
  },
  {
   "cell_type": "code",
   "execution_count": 2,
   "metadata": {},
   "outputs": [],
   "source": [
    "W = np.array([[0, 1, 0, 0, 0, 0, 0, 1, 0, 0, 0, 0],\n",
    "              [0, 0, 1, 1, 1, 0, 0, 0, 0, 0, 0, 0],\n",
    "              [0, 0, 0, 0, 0, 1, 0, 0, 0, 0, 0, 0],\n",
    "              [0, 0, 0, 0, 0, 0, 0, 0, 1, 0, 0, 0],\n",
    "              [0, 0, 0, 0, 0, 1, 0, 0, 0, 0, 0, 0],\n",
    "              [0, 0, 0, 0, 0, 0, 1, 0, 0, 0, 0, 0],\n",
    "              [0, 0, 0, 0, 0, 0, 0, 0, 0, 1, 0, 0],\n",
    "              [0, 0, 0, 1, 0, 0, 0, 0, 0, 0, 1, 0],\n",
    "              [0, 0, 0, 0, 1, 0, 0, 0, 0, 0, 1, 0],\n",
    "              [0, 0, 0, 0, 1, 0, 0, 0, 0, 0, 0, 1],\n",
    "              [0, 0, 0, 0, 0, 0, 0, 0, 0, 0, 0, 1],\n",
    "              [0, 0, 0, 0, 0, 0, 0, 0, 0, 0, 0, 0],\n",
    "              ])"
   ]
  },
  {
   "cell_type": "code",
   "execution_count": 3,
   "metadata": {},
   "outputs": [],
   "source": [
    "G = Graph(W)\n",
    "#G.draw_graph()"
   ]
  },
  {
   "cell_type": "code",
   "execution_count": 4,
   "metadata": {},
   "outputs": [
    {
     "name": "stdout",
     "output_type": "stream",
     "text": [
      "Seed = 2075\n"
     ]
    }
   ],
   "source": [
    "import time\n",
    "RANDOM_SEED = int((time.time()%10)*1000)\n",
    "print(\"Seed = %d\" % RANDOM_SEED)\n",
    "np.random.seed(RANDOM_SEED)"
   ]
  },
  {
   "cell_type": "code",
   "execution_count": 5,
   "metadata": {},
   "outputs": [],
   "source": [
    "nodes = W.shape[0]\n",
    "\n",
    "m = 17\n",
    "\n",
    "# link length computed generate a random value\n",
    "seg_length = 2000*np.random.rand(m,1)\n",
    "\n",
    "# flow value of each link computed generating a random value\n",
    "f = 600 + 100*(2*np.random.rand(m,1) - 1)\n",
    "\n",
    "# Capacity of each link computed generating random value\n",
    "C = 1000 + 100*(2*np.random.rand(m,1) - 1)\n",
    "\n",
    "# assuming speed of 14 m/s\n",
    "speed = 14\n",
    "\n",
    "# minimum travel time for each segment\n",
    "t_e = seg_length/speed"
   ]
  },
  {
   "cell_type": "code",
   "execution_count": 6,
   "metadata": {},
   "outputs": [],
   "source": [
    "edges = []\n",
    "\n",
    "#looking at the adjacency matrix we determine al the link\n",
    "for i in range(W.shape[0]):\n",
    "    for j in range(W.shape[1]):\n",
    "        if W[i,j] != 0:\n",
    "            edges.append((i,j))\n",
    "n_edges = len(edges)"
   ]
  },
  {
   "attachments": {},
   "cell_type": "markdown",
   "metadata": {},
   "source": [
    "### Incidence matrix"
   ]
  },
  {
   "cell_type": "code",
   "execution_count": 7,
   "metadata": {},
   "outputs": [
    {
     "data": {
      "text/latex": [
       "$\\displaystyle \\left[\\begin{array}{ccccccccccccccccc}1.0 & 1.0 & 0 & 0 & 0 & 0 & 0 & 0 & 0 & 0 & 0 & 0 & 0 & 0 & 0 & 0 & 0\\\\-1.0 & 0 & 1.0 & 1.0 & 1.0 & 0 & 0 & 0 & 0 & 0 & 0 & 0 & 0 & 0 & 0 & 0 & 0\\\\0 & 0 & -1.0 & 0 & 0 & 1.0 & 0 & 0 & 0 & 0 & 0 & 0 & 0 & 0 & 0 & 0 & 0\\\\0 & 0 & 0 & -1.0 & 0 & 0 & 1.0 & 0 & 0 & 0 & -1.0 & 0 & 0 & 0 & 0 & 0 & 0\\\\0 & 0 & 0 & 0 & -1.0 & 0 & 0 & 1.0 & 0 & 0 & 0 & 0 & -1.0 & 0 & -1.0 & 0 & 0\\\\0 & 0 & 0 & 0 & 0 & -1.0 & 0 & -1.0 & 1.0 & 0 & 0 & 0 & 0 & 0 & 0 & 0 & 0\\\\0 & 0 & 0 & 0 & 0 & 0 & 0 & 0 & -1.0 & 1.0 & 0 & 0 & 0 & 0 & 0 & 0 & 0\\\\0 & -1.0 & 0 & 0 & 0 & 0 & 0 & 0 & 0 & 0 & 1.0 & 1.0 & 0 & 0 & 0 & 0 & 0\\\\0 & 0 & 0 & 0 & 0 & 0 & -1.0 & 0 & 0 & 0 & 0 & 0 & 1.0 & 1.0 & 0 & 0 & 0\\\\0 & 0 & 0 & 0 & 0 & 0 & 0 & 0 & 0 & -1.0 & 0 & 0 & 0 & 0 & 1.0 & 1.0 & 0\\\\0 & 0 & 0 & 0 & 0 & 0 & 0 & 0 & 0 & 0 & 0 & -1.0 & 0 & -1.0 & 0 & 0 & 1.0\\\\0 & 0 & 0 & 0 & 0 & 0 & 0 & 0 & 0 & 0 & 0 & 0 & 0 & 0 & 0 & -1.0 & -1.0\\end{array}\\right]$"
      ],
      "text/plain": [
       "Matrix([\n",
       "[ 1.0,  1.0,    0,    0,    0,    0,    0,    0,    0,    0,    0,    0,    0,    0,    0,    0,    0],\n",
       "[-1.0,    0,  1.0,  1.0,  1.0,    0,    0,    0,    0,    0,    0,    0,    0,    0,    0,    0,    0],\n",
       "[   0,    0, -1.0,    0,    0,  1.0,    0,    0,    0,    0,    0,    0,    0,    0,    0,    0,    0],\n",
       "[   0,    0,    0, -1.0,    0,    0,  1.0,    0,    0,    0, -1.0,    0,    0,    0,    0,    0,    0],\n",
       "[   0,    0,    0,    0, -1.0,    0,    0,  1.0,    0,    0,    0,    0, -1.0,    0, -1.0,    0,    0],\n",
       "[   0,    0,    0,    0,    0, -1.0,    0, -1.0,  1.0,    0,    0,    0,    0,    0,    0,    0,    0],\n",
       "[   0,    0,    0,    0,    0,    0,    0,    0, -1.0,  1.0,    0,    0,    0,    0,    0,    0,    0],\n",
       "[   0, -1.0,    0,    0,    0,    0,    0,    0,    0,    0,  1.0,  1.0,    0,    0,    0,    0,    0],\n",
       "[   0,    0,    0,    0,    0,    0, -1.0,    0,    0,    0,    0,    0,  1.0,  1.0,    0,    0,    0],\n",
       "[   0,    0,    0,    0,    0,    0,    0,    0,    0, -1.0,    0,    0,    0,    0,  1.0,  1.0,    0],\n",
       "[   0,    0,    0,    0,    0,    0,    0,    0,    0,    0,    0, -1.0,    0, -1.0,    0,    0,  1.0],\n",
       "[   0,    0,    0,    0,    0,    0,    0,    0,    0,    0,    0,    0,    0,    0,    0, -1.0, -1.0]])"
      ]
     },
     "metadata": {},
     "output_type": "display_data"
    }
   ],
   "source": [
    "B = np.zeros((nodes,n_edges))\n",
    "\n",
    "# based on the link found we compute node-link incidence matrix B\n",
    "for index,edge in enumerate(edges):\n",
    "    node_i, node_j = edge\n",
    "    B[node_i,index] = 1\n",
    "    B[node_j,index] = -1\n",
    "    \n",
    "display(latex(B))   "
   ]
  },
  {
   "cell_type": "code",
   "execution_count": 20,
   "metadata": {},
   "outputs": [
    {
     "data": {
      "text/plain": [
       "(12, 17)"
      ]
     },
     "execution_count": 20,
     "metadata": {},
     "output_type": "execute_result"
    }
   ],
   "source": [
    "B.shape"
   ]
  },
  {
   "attachments": {},
   "cell_type": "markdown",
   "metadata": {},
   "source": [
    "___"
   ]
  },
  {
   "attachments": {},
   "cell_type": "markdown",
   "metadata": {},
   "source": [
    "### Shortest path"
   ]
  },
  {
   "cell_type": "code",
   "execution_count": 8,
   "metadata": {},
   "outputs": [],
   "source": [
    "W_times = np.zeros((nodes, n_edges))\n",
    "\n",
    "# To compute the shortest time we set a new adjacency matrix with time travel values\n",
    "for indx, edge in enumerate(edges):\n",
    "    i,j = edge\n",
    "    W_times[i,j] = t_e[indx]"
   ]
  },
  {
   "cell_type": "code",
   "execution_count": 9,
   "metadata": {},
   "outputs": [
    {
     "data": {
      "text/plain": [
       "[7, 10, 11]"
      ]
     },
     "metadata": {},
     "output_type": "display_data"
    },
    {
     "name": "stdout",
     "output_type": "stream",
     "text": [
      "The minimum time to go from 1 to 12 in an empty network is:  258.902 s\n"
     ]
    }
   ],
   "source": [
    "graph = Graph(W_times)\n",
    "\n",
    "#find the shortest path step fro 0 to 11 (we must consider that indices in python start from 0 so they correspond to a +1 indices in the exercise)\n",
    "shortest_path = graph.dist(0,11)[1]\n",
    "\n",
    "# display shortest path\n",
    "display(shortest_path)\n",
    "\n",
    "time_shortest_path = 0\n",
    "\n",
    "# compute total time for shortest path\n",
    "for node in shortest_path:\n",
    "    time_shortest_path += t_e[node]\n",
    "\n",
    "time_shortest_path = time_shortest_path[0]\n",
    "print('The minimum time to go from 1 to 12 in an empty network is: ', round(time_shortest_path,3), 's')"
   ]
  },
  {
   "attachments": {},
   "cell_type": "markdown",
   "metadata": {},
   "source": [
    "___"
   ]
  },
  {
   "attachments": {},
   "cell_type": "markdown",
   "metadata": {},
   "source": [
    "### Maximum flow"
   ]
  },
  {
   "cell_type": "code",
   "execution_count": 10,
   "metadata": {},
   "outputs": [
    {
     "name": "stdout",
     "output_type": "stream",
     "text": [
      "The maximum flow is: 1821.078\n"
     ]
    }
   ],
   "source": [
    "graph = nx.DiGraph()\n",
    "\n",
    "# creating a new adjacency matrix in order to compute max flow\n",
    "for indx, capacity in enumerate(C):\n",
    "    i,j = edges[indx]\n",
    "    cap = capacity[0]\n",
    "    graph.add_edge(str(i),str(j), capacity = cap)\n",
    "\n",
    "tau_max = nx.maximum_flow_value(graph,\"0\",\"11\")\n",
    "tau_max = round(tau_max,3)\n",
    "print('The maximum flow is:', tau_max)"
   ]
  },
  {
   "attachments": {},
   "cell_type": "markdown",
   "metadata": {},
   "source": [
    "___"
   ]
  },
  {
   "attachments": {},
   "cell_type": "markdown",
   "metadata": {},
   "source": [
    "### External inflows/outflows"
   ]
  },
  {
   "cell_type": "code",
   "execution_count": 11,
   "metadata": {},
   "outputs": [
    {
     "name": "stdout",
     "output_type": "stream",
     "text": [
      "External inflow value:\n"
     ]
    },
    {
     "data": {
      "text/latex": [
       "$\\displaystyle \\left[\\begin{array}{cccccccccccc}1115.80171130084 & 1207.22398680057 & 137.309464850355 & 0 & 0 & 0 & 123.227038781501 & 521.676307870786 & 540.24576558741 & 573.395298216262 & 0 & 0\\end{array}\\right]$"
      ],
      "text/plain": [
       "Matrix([[1115.80171130084, 1207.22398680057, 137.309464850355, 0, 0, 0, 123.227038781501, 521.676307870786, 540.24576558741, 573.395298216262, 0, 0]])"
      ]
     },
     "metadata": {},
     "output_type": "display_data"
    },
    {
     "name": "stdout",
     "output_type": "stream",
     "text": [
      "External ouflow value:\n"
     ]
    },
    {
     "data": {
      "text/latex": [
       "$\\displaystyle \\left[\\begin{array}{cccccccccccc}0 & 0 & 0 & 725.692682330812 & 1152.78805316367 & 705.761424499189 & 0 & 0 & 0 & 0 & 500.22499917926 & 1134.4124142348\\end{array}\\right]$"
      ],
      "text/plain": [
       "Matrix([[0, 0, 0, 725.692682330812, 1152.78805316367, 705.761424499189, 0, 0, 0, 0, 500.22499917926, 1134.4124142348]])"
      ]
     },
     "metadata": {},
     "output_type": "display_data"
    },
    {
     "name": "stdout",
     "output_type": "stream",
     "text": [
      "Net exogenous flow:\n"
     ]
    },
    {
     "data": {
      "text/latex": [
       "$\\displaystyle \\left[\\begin{array}{cccccccccccc}1115.80171130084 & 1207.22398680057 & 137.309464850355 & -725.692682330812 & -1152.78805316367 & -705.761424499189 & 123.227038781501 & 521.676307870786 & 540.24576558741 & 573.395298216262 & -500.22499917926 & -1134.4124142348\\end{array}\\right]$"
      ],
      "text/plain": [
       "Matrix([[1115.80171130084, 1207.22398680057, 137.309464850355, -725.692682330812, -1152.78805316367, -705.761424499189, 123.227038781501, 521.676307870786, 540.24576558741, 573.395298216262, -500.22499917926, -1134.4124142348]])"
      ]
     },
     "metadata": {},
     "output_type": "display_data"
    }
   ],
   "source": [
    "nu = B@f\n",
    "nu.reshape((1,len(nu)))[0]\n",
    "external_inflow = nu.copy()\n",
    "external_outflow = nu.copy()\n",
    "\n",
    "for i in range(len(external_inflow)):\n",
    "    external_inflow[i] = max(external_inflow[i],0)\n",
    "print(\"External inflow value:\")\n",
    "display(latex(external_inflow).T)\n",
    "\n",
    "for i in range(len(external_outflow)):\n",
    "    external_outflow[i] = max(-external_outflow[i],0)\n",
    "print(\"External ouflow value:\")\n",
    "display(latex(external_outflow).T)\n",
    "    \n",
    "print(\"Net exogenous flow:\")\n",
    "display(latex(nu).T)\n"
   ]
  },
  {
   "attachments": {},
   "cell_type": "markdown",
   "metadata": {},
   "source": [
    "___"
   ]
  },
  {
   "attachments": {},
   "cell_type": "markdown",
   "metadata": {},
   "source": [
    "### Social Optimum"
   ]
  },
  {
   "cell_type": "code",
   "execution_count": 12,
   "metadata": {},
   "outputs": [
    {
     "name": "stdout",
     "output_type": "stream",
     "text": [
      "Social optimum cost: 729017.1\n",
      "Social optimum flow values:\n"
     ]
    },
    {
     "data": {
      "text/latex": [
       "$\\displaystyle \\left[\\begin{matrix}481.226768122911\\\\634.574943179578\\\\183.283148373975\\\\45.4016040726926\\\\252.542015676939\\\\183.283148374582\\\\155.2358141377\\\\252.54201782269\\\\435.825166197673\\\\435.825166196582\\\\109.834210065099\\\\524.740733114156\\\\1.64231896392642 \\cdot 10^{-6}\\\\155.235812494684\\\\5.0248021126977 \\cdot 10^{-7}\\\\435.825165693216\\\\679.97654560756\\end{matrix}\\right]$"
      ],
      "text/plain": [
       "Matrix([\n",
       "[   481.226768122911],\n",
       "[   634.574943179578],\n",
       "[   183.283148373975],\n",
       "[   45.4016040726926],\n",
       "[   252.542015676939],\n",
       "[   183.283148374582],\n",
       "[     155.2358141377],\n",
       "[    252.54201782269],\n",
       "[   435.825166197673],\n",
       "[   435.825166196582],\n",
       "[   109.834210065099],\n",
       "[   524.740733114156],\n",
       "[1.64231896392642e-6],\n",
       "[   155.235812494684],\n",
       "[ 5.0248021126977e-7],\n",
       "[   435.825165693216],\n",
       "[    679.97654560756]])"
      ]
     },
     "metadata": {},
     "output_type": "display_data"
    }
   ],
   "source": [
    "import cvxpy as cvx\n",
    "\n",
    "nu[1:11] = 0\n",
    "nu[-1] = -nu[0]\n",
    "\n",
    "# varaible of the optimization problem\n",
    "fe = cvx.Variable((n_edges,1))\n",
    "\n",
    "# cost function\n",
    "object = cvx.Minimize(cvx.sum(cvx.multiply(cvx.multiply(t_e,C),cvx.inv_pos(1 - cvx.multiply(fe,1/C))) - cvx.multiply(t_e,C)))\n",
    "\n",
    "# constraints\n",
    "constraints = [B@fe == nu, 0 <= fe, fe <= C]\n",
    "\n",
    "problem = cvx.Problem(object, constraints)\n",
    "\n",
    "result = problem.solve()\n",
    "\n",
    "fe_social_optimum = fe.value\n",
    "social_optimum_cost = problem.value\n",
    "\n",
    "print(\"Social optimum cost:\", round(social_optimum_cost,1))\n",
    "\n",
    "print(\"Social optimum flow values:\")\n",
    "display(latex(fe_social_optimum))"
   ]
  },
  {
   "attachments": {},
   "cell_type": "markdown",
   "metadata": {},
   "source": [
    "___"
   ]
  },
  {
   "attachments": {},
   "cell_type": "markdown",
   "metadata": {},
   "source": [
    "### Wardrop equilibrium"
   ]
  },
  {
   "cell_type": "code",
   "execution_count": 13,
   "metadata": {},
   "outputs": [
    {
     "name": "stdout",
     "output_type": "stream",
     "text": [
      "Wardrop flow values:\n"
     ]
    },
    {
     "data": {
      "text/latex": [
       "$\\displaystyle \\left[\\begin{array}{ccccccccccccccccc}393.095092359098 & 722.706611055796 & 96.3060421025673 & 40.5577162811076 & 256.231333975418 & 96.3060421025642 & 55.1778783522035 & 256.231335885811 & 352.537377988374 & 352.537377988374 & 14.6201620710897 & 708.08644898468 & 1.30883077606443 \\cdot 10^{-6} & 55.177877043386 & 6.01561011435913 \\cdot 10^{-7} & 352.537377386811 & 763.264326028089\\end{array}\\right]$"
      ],
      "text/plain": [
       "Matrix([[393.095092359098, 722.706611055796, 96.3060421025673, 40.5577162811076, 256.231333975418, 96.3060421025642, 55.1778783522035, 256.231335885811, 352.537377988374, 352.537377988374, 14.6201620710897, 708.08644898468, 1.30883077606443e-6, 55.177877043386, 6.01561011435913e-7, 352.537377386811, 763.264326028089]])"
      ]
     },
     "metadata": {},
     "output_type": "display_data"
    }
   ],
   "source": [
    "fe_wardrop = cvx.Variable((n_edges,1))\n",
    "\n",
    "object = cvx.Minimize( cvx.sum( cvx.multiply( cvx.multiply(-t_e,C), cvx.log(1- cvx.multiply(fe_wardrop,1/C)) )))\n",
    "\n",
    "constraints = [B@fe_wardrop == nu, 0 <= fe_wardrop, fe_wardrop <= C]\n",
    "\n",
    "problem = cvx.Problem(object, constraints)\n",
    "\n",
    "result = problem.solve()\n",
    "\n",
    "print(\"Wardrop flow values:\")\n",
    "fe_wardrop= fe_wardrop.value\n",
    "display(latex(fe_wardrop).T)"
   ]
  },
  {
   "attachments": {},
   "cell_type": "markdown",
   "metadata": {},
   "source": [
    "___"
   ]
  },
  {
   "attachments": {},
   "cell_type": "markdown",
   "metadata": {},
   "source": [
    "### Price of anarchy"
   ]
  },
  {
   "cell_type": "code",
   "execution_count": 14,
   "metadata": {},
   "outputs": [
    {
     "name": "stdout",
     "output_type": "stream",
     "text": [
      "Cost at Wardrop: 842727.955\n",
      "The Price of Anarchy is: 1.156\n"
     ]
    }
   ],
   "source": [
    "cost_at_wardrop = 0\n",
    "\n",
    "for i in range(len(t_e)):\n",
    "    cost_at_wardrop += (fe_wardrop[i]*t_e[i])/(1 - (fe_wardrop[i]/C[i]) )\n",
    "\n",
    "print('Cost at Wardrop:', rounding(cost_at_wardrop,3)[0])\n",
    "\n",
    "# Price of Anarchy\n",
    "PoA = cost_at_wardrop/social_optimum_cost \n",
    "print('The Price of Anarchy is:',round(PoA[0],3))"
   ]
  },
  {
   "attachments": {},
   "cell_type": "markdown",
   "metadata": {},
   "source": [
    "___"
   ]
  },
  {
   "attachments": {},
   "cell_type": "markdown",
   "metadata": {},
   "source": [
    "### Wardrop equilibrium with tools"
   ]
  },
  {
   "cell_type": "code",
   "execution_count": 15,
   "metadata": {},
   "outputs": [],
   "source": [
    "tolls = []\n",
    "\n",
    "#defining the value of the tolls\n",
    "for i in range(len(fe_social_optimum)):\n",
    "    d_de =  C[i]*t_e[i]/(C[i] - fe_social_optimum[i])**2\n",
    "    tolls.append(fe_social_optimum[i]*d_de)\n",
    "\n",
    "tolls = np.asarray(tolls)"
   ]
  },
  {
   "cell_type": "code",
   "execution_count": 16,
   "metadata": {},
   "outputs": [
    {
     "name": "stdout",
     "output_type": "stream",
     "text": [
      "Cost at Wardrop with tolls: 842727.955\n",
      "The Price of Anarchy with tolls is: 1.0\n"
     ]
    }
   ],
   "source": [
    "fe_tolls = cvx.Variable((n_edges,1))\n",
    "\n",
    "object = cvx.Minimize( cvx.sum( cvx.multiply( cvx.multiply(-t_e,C), cvx.log(1- cvx.multiply(fe_tolls,1/C)) ) + cvx.multiply(tolls,fe_tolls)))\n",
    "\n",
    "constraints = [B@fe_tolls == nu, 0 <= fe_tolls, fe_tolls <= C]\n",
    "\n",
    "problem = cvx.Problem(object, constraints)\n",
    "\n",
    "result = problem.solve()\n",
    "\n",
    "fe_tolls = fe_tolls.value\n",
    "\n",
    "cost_at_wardrop_tolls = 0\n",
    "\n",
    "for i in range(len(t_e)):\n",
    "    cost_at_wardrop_tolls += (fe_tolls[i]*t_e[i])/(1 - (fe_tolls[i]/C[i]) )\n",
    "    \n",
    "\n",
    "print('Cost at Wardrop with tolls:', rounding(cost_at_wardrop,3)[0])\n",
    "PoA = cost_at_wardrop_tolls/social_optimum_cost \n",
    "print('The Price of Anarchy with tolls is:',round(PoA[0],3))"
   ]
  },
  {
   "attachments": {},
   "cell_type": "markdown",
   "metadata": {},
   "source": [
    "___"
   ]
  },
  {
   "attachments": {},
   "cell_type": "markdown",
   "metadata": {},
   "source": [
    "Let now consider a new cost:\n",
    "$$c_e(f_e) = f_e(d_e(f_e) - t_e)$$\n",
    "\n",
    "\n",
    "We want tocompute the new social optimum and the we want to construct the tolls that mak the Wardrop equilibrium coincides with the social optimum."
   ]
  },
  {
   "cell_type": "code",
   "execution_count": 17,
   "metadata": {},
   "outputs": [
    {
     "name": "stdout",
     "output_type": "stream",
     "text": [
      "Social optimum flows:\n"
     ]
    },
    {
     "data": {
      "text/latex": [
       "$\\displaystyle \\left[\\begin{matrix}502.351000330849\\\\613.450710976905\\\\214.898628640289\\\\51.5249225722751\\\\235.927449117274\\\\214.898628639689\\\\235.288461906153\\\\235.927585035937\\\\450.826213675354\\\\450.826213677349\\\\183.763539335963\\\\429.687171639614\\\\0.000133763514453369\\\\235.288328139211\\\\2.15536272801287 \\cdot 10^{-6}\\\\450.826211524266\\\\664.975499773314\\end{matrix}\\right]$"
      ],
      "text/plain": [
       "Matrix([\n",
       "[    502.351000330849],\n",
       "[    613.450710976905],\n",
       "[    214.898628640289],\n",
       "[    51.5249225722751],\n",
       "[    235.927449117274],\n",
       "[    214.898628639689],\n",
       "[    235.288461906153],\n",
       "[    235.927585035937],\n",
       "[    450.826213675354],\n",
       "[    450.826213677349],\n",
       "[    183.763539335963],\n",
       "[    429.687171639614],\n",
       "[0.000133763514453369],\n",
       "[    235.288328139211],\n",
       "[ 2.15536272801287e-6],\n",
       "[    450.826211524266],\n",
       "[    664.975499773314]])"
      ]
     },
     "metadata": {},
     "output_type": "display_data"
    },
    {
     "name": "stdout",
     "output_type": "stream",
     "text": [
      "Social optimum cost: 340087.91\n"
     ]
    }
   ],
   "source": [
    "fe_new = cvx.Variable((n_edges,1))\n",
    "\n",
    "object = cvx.Minimize(cvx.sum(cvx.multiply(cvx.multiply(t_e,C),cvx.inv_pos(1 - cvx.multiply(fe_new,1/C))) \\\n",
    "                              - cvx.multiply(t_e,C) - cvx.multiply(fe_new,t_e)))\n",
    "\n",
    "constraints = [B@fe_new == nu, 0 <= fe_new, fe_new <= C]\n",
    "\n",
    "problem = cvx.Problem(object, constraints)\n",
    "\n",
    "result = problem.solve()\n",
    "\n",
    "fe_new_social_optimum = fe_new.value\n",
    "new_social_optimum_cost = problem.value\n",
    "\n",
    "print(\"Social optimum flows:\")\n",
    "display(latex(fe_new_social_optimum))\n",
    "\n",
    "print(\"Social optimum cost:\",round(new_social_optimum_cost,2) )"
   ]
  },
  {
   "cell_type": "code",
   "execution_count": 18,
   "metadata": {},
   "outputs": [],
   "source": [
    "tolls_new = []\n",
    "\n",
    "for i in range(len(fe_new_social_optimum)):\n",
    "    toll =  (fe_new_social_optimum[i]*C[i]*t_e[i])/((C[i] - fe_new_social_optimum[i])**2 ) \n",
    "    tolls_new.append(toll)\n",
    "\n",
    "tolls_new = np.asarray(tolls_new) "
   ]
  },
  {
   "cell_type": "code",
   "execution_count": 19,
   "metadata": {},
   "outputs": [
    {
     "data": {
      "text/latex": [
       "$\\displaystyle \\left[\\begin{array}{ccccccccccccccccc}502.332401022851 & 613.469300722273 & 214.912828142045 & 51.4760472104401 & 235.943525670356 & 214.912828142048 & 235.24112620707 & 235.943556983356 & 450.856385125419 & 450.856385125441 & 183.76507899664 & 429.704221725615 & 3.07097762758036 \\cdot 10^{-5} & 235.241095497263 & 6.03209157061984 \\cdot 10^{-7} & 450.856384522254 & 664.945317222846\\end{array}\\right]$"
      ],
      "text/plain": [
       "Matrix([[502.332401022851, 613.469300722273, 214.912828142045, 51.4760472104401, 235.943525670356, 214.912828142048, 235.24112620707, 235.943556983356, 450.856385125419, 450.856385125441, 183.76507899664, 429.704221725615, 3.07097762758036e-5, 235.241095497263, 6.03209157061984e-7, 450.856384522254, 664.945317222846]])"
      ]
     },
     "metadata": {},
     "output_type": "display_data"
    },
    {
     "data": {
      "text/latex": [
       "$\\displaystyle \\left[\\begin{array}{ccccccccccccccccc}502.351000330849 & 613.450710976905 & 214.898628640289 & 51.5249225722751 & 235.927449117274 & 214.898628639689 & 235.288461906153 & 235.927585035937 & 450.826213675354 & 450.826213677349 & 183.763539335963 & 429.687171639614 & 0.000133763514453369 & 235.288328139211 & 2.15536272801287 \\cdot 10^{-6} & 450.826211524266 & 664.975499773314\\end{array}\\right]$"
      ],
      "text/plain": [
       "Matrix([[502.351000330849, 613.450710976905, 214.898628640289, 51.5249225722751, 235.927449117274, 214.898628639689, 235.288461906153, 235.927585035937, 450.826213675354, 450.826213677349, 183.763539335963, 429.687171639614, 0.000133763514453369, 235.288328139211, 2.15536272801287e-6, 450.826211524266, 664.975499773314]])"
      ]
     },
     "metadata": {},
     "output_type": "display_data"
    },
    {
     "name": "stdout",
     "output_type": "stream",
     "text": [
      "Cost at Wardrop with tolls: 340087.9\n",
      "The Price of Anarchy with tolls is: 1.0\n"
     ]
    }
   ],
   "source": [
    "fe_tolls_new = cvx.Variable((n_edges,1))\n",
    "\n",
    "object = cvx.Minimize( cvx.sum( cvx.multiply( cvx.multiply(-t_e,C), cvx.log(1- cvx.multiply(fe_tolls_new,1/C)) )+ cvx.multiply(tolls_new,fe_tolls_new)- cvx.multiply(fe_tolls_new,t_e)))\n",
    "\n",
    "constraints = [B@fe_tolls_new == nu, 0 <= fe_tolls_new, fe_tolls_new <= C]\n",
    "\n",
    "problem = cvx.Problem(object, constraints)\n",
    "\n",
    "result = problem.solve()\n",
    "\n",
    "fe_tolls_new = fe_tolls_new.value\n",
    "display(latex(fe_tolls_new).T)\n",
    "display(latex(fe_new_social_optimum).T)\n",
    "\n",
    "cost_at_wardrop_tolls_new = 0\n",
    "\n",
    "for i in range(len(t_e)):\n",
    "    cost_at_wardrop_tolls_new += (fe_tolls_new[i]*t_e[i])/(1 - (fe_tolls_new[i]/C[i]) ) - fe_tolls_new[i]*t_e[i]\n",
    "\n",
    "print('Cost at Wardrop with tolls:', rounding(cost_at_wardrop_tolls_new,2)[0])\n",
    "PoA = cost_at_wardrop_tolls_new/new_social_optimum_cost \n",
    "\n",
    "print('The Price of Anarchy with tolls is:',round(PoA[0],3))"
   ]
  }
 ],
 "metadata": {
  "kernelspec": {
   "display_name": "Python 3",
   "language": "python",
   "name": "python3"
  },
  "language_info": {
   "codemirror_mode": {
    "name": "ipython",
    "version": 3
   },
   "file_extension": ".py",
   "mimetype": "text/x-python",
   "name": "python",
   "nbconvert_exporter": "python",
   "pygments_lexer": "ipython3",
   "version": "3.10.6"
  },
  "orig_nbformat": 4
 },
 "nbformat": 4,
 "nbformat_minor": 2
}
