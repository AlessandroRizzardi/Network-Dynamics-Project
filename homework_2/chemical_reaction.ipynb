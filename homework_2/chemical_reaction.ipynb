{
 "cells": [
  {
   "attachments": {},
   "cell_type": "markdown",
   "metadata": {},
   "source": [
    "# Zero deficiency or non-zero deficiency?"
   ]
  },
  {
   "cell_type": "code",
   "execution_count": 1,
   "metadata": {},
   "outputs": [],
   "source": [
    "import numpy as np \n",
    "import networkx as nx\n",
    "import sympy as sp\n",
    "from graph import Graph"
   ]
  },
  {
   "cell_type": "code",
   "execution_count": 2,
   "metadata": {},
   "outputs": [],
   "source": [
    "def latex_dispaly(matrix):\n",
    "    m = np.asarray(matrix)\n",
    "    mat = sp.Matrix(m)\n",
    "    if m.shape[0] != 1:\n",
    "        display(mat.T)\n",
    "    else:\n",
    "        display(mat)"
   ]
  },
  {
   "cell_type": "code",
   "execution_count": 3,
   "metadata": {},
   "outputs": [
    {
     "data": {
      "text/latex": [
       "$\\displaystyle \\left[\\begin{matrix}-1 & 2 & 0 & 0 & 0\\\\1 & -2 & 0 & 0 & 0\\\\-1 & 0 & -1 & 1 & 0\\\\1 & 0 & 1 & -1 & 0\\\\1 & -1 & 1 & 0 & -1\\\\0 & 1 & 0 & -1 & 1\\end{matrix}\\right]$"
      ],
      "text/plain": [
       "Matrix([\n",
       "[-1,  2,  0,  0,  0],\n",
       "[ 1, -2,  0,  0,  0],\n",
       "[-1,  0, -1,  1,  0],\n",
       "[ 1,  0,  1, -1,  0],\n",
       "[ 1, -1,  1,  0, -1],\n",
       "[ 0,  1,  0, -1,  1]])"
      ]
     },
     "metadata": {},
     "output_type": "display_data"
    }
   ],
   "source": [
    "S = np.array([[-1, 1,-1, 1, 1, 0],\n",
    "              [ 2,-2, 0, 0,-1, 1],\n",
    "              [ 0, 0,-1, 1, 1, 0],\n",
    "              [ 0, 0, 1,-1, 0,-1],\n",
    "              [ 0, 0, 0, 0,-1, 1]])\n",
    "latex_dispaly(S)"
   ]
  },
  {
   "attachments": {},
   "cell_type": "markdown",
   "metadata": {},
   "source": [
    "### Reaction rank"
   ]
  },
  {
   "cell_type": "code",
   "execution_count": 4,
   "metadata": {},
   "outputs": [
    {
     "name": "stdout",
     "output_type": "stream",
     "text": [
      "The reaction rank is:  3\n"
     ]
    }
   ],
   "source": [
    "# rank of matrix S\n",
    "R = np.linalg.matrix_rank(S)\n",
    "\n",
    "print('The reaction rank is: ', R)"
   ]
  },
  {
   "attachments": {},
   "cell_type": "markdown",
   "metadata": {},
   "source": [
    "### Number of complexes"
   ]
  },
  {
   "cell_type": "code",
   "execution_count": 5,
   "metadata": {},
   "outputs": [
    {
     "name": "stdout",
     "output_type": "stream",
     "text": [
      "Number of complexes = 5\n"
     ]
    }
   ],
   "source": [
    "columns = S.shape[1]\n",
    "\n",
    "complexes = []\n",
    "reagents = []\n",
    "products = []\n",
    "\n",
    "# check each column for negative values\n",
    "for c in range(columns):\n",
    "    complex = []\n",
    "    column = S[:,c]\n",
    "    # looking for negative values\n",
    "    complex = np.where(column < 0)[0]\n",
    "    complexes.append(complex)\n",
    "    reagents.append(complex)    # negative values means they are reagents\n",
    "\n",
    "\n",
    "# check each column for positive values\n",
    "for c in range(columns):\n",
    "    complex = []\n",
    "    column = S[:,c]\n",
    "    complex = np.where(column > 0)[0]\n",
    "    complexes.append(complex)\n",
    "    products.append(complex)    # positive values means they are products\n",
    "\n",
    "\n",
    "# in the indices list we put all the complexes we had found multiple times\n",
    "indeces = []\n",
    "for i in range(len(complexes)-1):\n",
    "    for j in range(i+1,len(complexes)):\n",
    "        if np.array_equal(complexes[i],complexes[j]) and j not in indeces:\n",
    "            indeces.append(j)\n",
    "\n",
    "# deleting the double complexes\n",
    "for index in sorted(indeces, reverse=True):\n",
    "    del complexes[index]\n",
    "\n",
    "\n",
    "C = len(complexes)\n",
    "print('Number of complexes =', C)"
   ]
  },
  {
   "attachments": {},
   "cell_type": "markdown",
   "metadata": {},
   "source": [
    "### Number of linkage classes"
   ]
  },
  {
   "cell_type": "code",
   "execution_count": 6,
   "metadata": {},
   "outputs": [
    {
     "data": {
      "text/plain": [
       "array([[0, 1],\n",
       "       [1, 0],\n",
       "       [2, 3],\n",
       "       [3, 2],\n",
       "       [4, 2],\n",
       "       [3, 4]])"
      ]
     },
     "execution_count": 6,
     "metadata": {},
     "output_type": "execute_result"
    }
   ],
   "source": [
    "index_reagents = np.zeros(len(reagents))\n",
    "\n",
    "# to each reagents we associate a complex\n",
    "for i in range(len(reagents)):\n",
    "    for j in range(len(complexes)):\n",
    "        if np.array_equal(reagents[i],complexes[j]):\n",
    "            index_reagents[i] = j \n",
    "            \n",
    "\n",
    "index_products = np.zeros(len(products))\n",
    "\n",
    "# to each products we associate a complex\n",
    "for i in range(len(products)):\n",
    "    for j in range(len(complexes)):\n",
    "        if np.array_equal(products[i],complexes[j]):\n",
    "            index_products[i] = j \n",
    "            \n",
    "# ve create couples linking products and reagents\n",
    "indeces = np.vstack((index_reagents,index_products)).T\n",
    "indeces = indeces.astype(int)\n",
    "indeces"
   ]
  },
  {
   "cell_type": "code",
   "execution_count": 7,
   "metadata": {},
   "outputs": [
    {
     "data": {
      "image/png": "[encoded data removed]",
      "text/plain": [
       "<Figure size 640x480 with 1 Axes>"
      ]
     },
     "metadata": {},
     "output_type": "display_data"
    }
   ],
   "source": [
    "W = np.zeros((C,C))\n",
    "\n",
    "# using the couples we find we can define a matrix representing the network\n",
    "for indx in indeces:\n",
    "    W[indx[0], indx[1]] = 1\n",
    "\n",
    "G = Graph(W)\n",
    "G.draw_graph()"
   ]
  },
  {
   "cell_type": "code",
   "execution_count": 8,
   "metadata": {},
   "outputs": [
    {
     "name": "stdout",
     "output_type": "stream",
     "text": [
      "The number of linkage classes is:  2\n"
     ]
    }
   ],
   "source": [
    "L = G.number_connected_components()\n",
    "print('The number of linkage classes is: ', L )"
   ]
  },
  {
   "attachments": {},
   "cell_type": "markdown",
   "metadata": {},
   "source": [
    "### Deficiency"
   ]
  },
  {
   "cell_type": "code",
   "execution_count": 9,
   "metadata": {},
   "outputs": [
    {
     "name": "stdout",
     "output_type": "stream",
     "text": [
      "Deficiency is: 0\n"
     ]
    }
   ],
   "source": [
    "delta = C - L - R\n",
    "\n",
    "print('Deficiency is:', delta)"
   ]
  },
  {
   "attachments": {},
   "cell_type": "markdown",
   "metadata": {},
   "source": [
    "### Weakly Reversability"
   ]
  },
  {
   "cell_type": "code",
   "execution_count": 10,
   "metadata": {},
   "outputs": [
    {
     "name": "stdout",
     "output_type": "stream",
     "text": [
      "The chemical reaction network is weakly reversible\n"
     ]
    }
   ],
   "source": [
    "if G.number_connected_components() == G.number_strongly_connected_components():\n",
    "    print('The chemical reaction network is weakly reversible')\n",
    "else:\n",
    "    print('The chemical reaction network is NOT weakly reversible')\n",
    "\n"
   ]
  }
 ],
 "metadata": {
  "kernelspec": {
   "display_name": "Python 3",
   "language": "python",
   "name": "python3"
  },
  "language_info": {
   "codemirror_mode": {
    "name": "ipython",
    "version": 3
   },
   "file_extension": ".py",
   "mimetype": "text/x-python",
   "name": "python",
   "nbconvert_exporter": "python",
   "pygments_lexer": "ipython3",
   "version": "3.10.6"
  },
  "orig_nbformat": 4
 },
 "nbformat": 4,
 "nbformat_minor": 2
}
